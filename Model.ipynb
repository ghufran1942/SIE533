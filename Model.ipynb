{
 "cells": [
  {
   "cell_type": "code",
   "execution_count": 1,
   "id": "fa2761aa-6d2c-4909-b48e-4905da356574",
   "metadata": {},
   "outputs": [
    {
     "ename": "ModuleNotFoundError",
     "evalue": "No module named 'torch'",
     "output_type": "error",
     "traceback": [
      "\u001b[0;31m---------------------------------------------------------------------------\u001b[0m",
      "\u001b[0;31mModuleNotFoundError\u001b[0m                       Traceback (most recent call last)",
      "Cell \u001b[0;32mIn[1], line 6\u001b[0m\n\u001b[1;32m      4\u001b[0m \u001b[38;5;28;01mimport\u001b[39;00m \u001b[38;5;21;01mmatplotlib\u001b[39;00m\u001b[38;5;21;01m.\u001b[39;00m\u001b[38;5;21;01mpyplot\u001b[39;00m \u001b[38;5;28;01mas\u001b[39;00m \u001b[38;5;21;01mplt\u001b[39;00m\n\u001b[1;32m      5\u001b[0m \u001b[38;5;28;01mimport\u001b[39;00m \u001b[38;5;21;01mplotly\u001b[39;00m\u001b[38;5;21;01m.\u001b[39;00m\u001b[38;5;21;01mexpress\u001b[39;00m \u001b[38;5;28;01mas\u001b[39;00m \u001b[38;5;21;01mpx\u001b[39;00m\n\u001b[0;32m----> 6\u001b[0m \u001b[38;5;28;01mimport\u001b[39;00m \u001b[38;5;21;01mtorch\u001b[39;00m\n\u001b[1;32m      7\u001b[0m \u001b[38;5;28;01mfrom\u001b[39;00m \u001b[38;5;21;01mtqdm\u001b[39;00m\u001b[38;5;21;01m.\u001b[39;00m\u001b[38;5;21;01mauto\u001b[39;00m \u001b[38;5;28;01mimport\u001b[39;00m tqdm\n\u001b[1;32m      9\u001b[0m \u001b[38;5;28;01mfrom\u001b[39;00m \u001b[38;5;21;01mtransformers\u001b[39;00m \u001b[38;5;28;01mimport\u001b[39;00m AutoModel, AutoTokenizer\n",
      "\u001b[0;31mModuleNotFoundError\u001b[0m: No module named 'torch'"
     ]
    }
   ],
   "source": [
    "import numpy as np\n",
    "import pandas as pd\n",
    "import seaborn as sns\n",
    "import matplotlib.pyplot as plt\n",
    "import plotly.express as px\n",
    "import torch\n",
    "from tqdm.auto import tqdm\n",
    "\n",
    "from transformers import AutoModel, AutoTokenizer"
   ]
  },
  {
   "cell_type": "code",
   "execution_count": null,
   "id": "a28b190f-3a31-4c53-8def-f30c2a040756",
   "metadata": {},
   "outputs": [],
   "source": [
    "# Import\n",
    "PATH = 'drive/MyDrive/SIE533/Project/'\n",
    "content = pd.read_csv(f'{PATH}/content_filtered.csv')\n",
    "correlation = pd.read_csv(f'{PATH}/correlation.csv')\n",
    "topics = pd.read_csv(f'{PATH}/topics_filtered.csv')"
   ]
  },
  {
   "cell_type": "code",
   "execution_count": null,
   "id": "0ad6d63d-fa06-4285-b148-f006b171454d",
   "metadata": {},
   "outputs": [],
   "source": [
    "content"
   ]
  },
  {
   "cell_type": "code",
   "execution_count": null,
   "id": "e2df6e7e-9f75-4afb-994d-b8aaa0dffb6c",
   "metadata": {},
   "outputs": [],
   "source": [
    "correlation"
   ]
  },
  {
   "cell_type": "code",
   "execution_count": null,
   "id": "2c08003b-75e7-4bc9-92e0-03134064215b",
   "metadata": {},
   "outputs": [],
   "source": [
    "topics"
   ]
  },
  {
   "cell_type": "code",
   "execution_count": null,
   "id": "df79d0e5-c7fd-4a0f-8082-e0d79df6e232",
   "metadata": {},
   "outputs": [],
   "source": [
    "# Model Import\n",
    "MODEL = 'sentence-transformers/paraphrase-MiniLM-L12-v2'\n",
    "device = 'cuda' if torch.cuda.is_available() else 'cpu'\n",
    "\n",
    "model = AutoModel.from_pretrained(MODEL)\n",
    "model.eval()\n",
    "model.to(device)\n",
    "\n",
    "tokenizer = AutoTokenizer.from_pretrained(MODEL)"
   ]
  },
  {
   "cell_type": "code",
   "execution_count": null,
   "id": "eaa634cd-54a9-4713-9e09-16307bf11ef4",
   "metadata": {},
   "outputs": [],
   "source": [
    "\n",
    "vecs = []\n",
    "MAX_LEN = 384\n",
    "# ELEMENT = content['title']\n",
    "\n",
    "for _,row in tqdm(content.iterrows(), total=len(content)):\n",
    "  # print(content['title'][row])\n",
    "  title = row['title']\n",
    "  if type(title) is float:\n",
    "    title = row['description']\n",
    "  if type(title) is float:\n",
    "    title = row['text']\n",
    "\n",
    "  tok = tokenizer(title)\n",
    "  for k,v in tok.items():\n",
    "    tok[k] = torch.tensor(v[:MAX_LEN]).to(device).unsqueeze(0)\n",
    "  with torch.no_grad():\n",
    "    output = model(**tok)\n",
    "\n",
    "  vec = output.last_hidden_state.squeeze(0).mean(0).cpu()\n",
    "  vecs.append(vec)\n",
    "\n",
    "vecs1 = torch.stack(vecs)"
   ]
  },
  {
   "cell_type": "code",
   "execution_count": null,
   "id": "1b2e7dbb-f71a-4f64-8746-324e6b20daf8",
   "metadata": {},
   "outputs": [],
   "source": []
  },
  {
   "cell_type": "code",
   "execution_count": null,
   "id": "9998b294-4cff-435c-a8f7-220fdfae2bc6",
   "metadata": {},
   "outputs": [],
   "source": []
  },
  {
   "cell_type": "code",
   "execution_count": null,
   "id": "39601b39-c47f-456a-a865-464128c36ff0",
   "metadata": {},
   "outputs": [],
   "source": []
  },
  {
   "cell_type": "code",
   "execution_count": null,
   "id": "1d1cbdf6-07f0-442e-973a-df6cc2bbea39",
   "metadata": {},
   "outputs": [],
   "source": []
  },
  {
   "cell_type": "code",
   "execution_count": null,
   "id": "fbab003a-1bb0-4953-b161-a2b697ff9b18",
   "metadata": {},
   "outputs": [],
   "source": []
  },
  {
   "cell_type": "code",
   "execution_count": null,
   "id": "42fd22ef-fb36-4969-b0ab-71dc5fef3088",
   "metadata": {},
   "outputs": [],
   "source": []
  },
  {
   "cell_type": "code",
   "execution_count": null,
   "id": "6f2f7968-e7e3-47be-922c-9557ca07915e",
   "metadata": {},
   "outputs": [],
   "source": []
  },
  {
   "cell_type": "code",
   "execution_count": null,
   "id": "d3381197-521a-4076-9cbf-f9692a2aa712",
   "metadata": {},
   "outputs": [],
   "source": []
  },
  {
   "cell_type": "code",
   "execution_count": null,
   "id": "345fe4ff-0d19-4f9c-9dae-6f35592dbcce",
   "metadata": {},
   "outputs": [],
   "source": []
  }
 ],
 "metadata": {
  "kernelspec": {
   "display_name": "Python 3 (ipykernel)",
   "language": "python",
   "name": "python3"
  },
  "language_info": {
   "codemirror_mode": {
    "name": "ipython",
    "version": 3
   },
   "file_extension": ".py",
   "mimetype": "text/x-python",
   "name": "python",
   "nbconvert_exporter": "python",
   "pygments_lexer": "ipython3",
   "version": "3.11.3"
  }
 },
 "nbformat": 4,
 "nbformat_minor": 5
}
