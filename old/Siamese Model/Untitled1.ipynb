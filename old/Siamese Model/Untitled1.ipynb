{
 "cells": [
  {
   "cell_type": "code",
   "execution_count": 4,
   "id": "1e7e5c99-2fcc-48f7-aa26-e9ec91396ded",
   "metadata": {},
   "outputs": [],
   "source": [
    "input_csv = 'submission.csv'\n",
    "# input_csv = 'cleaned_output.csv'"
   ]
  },
  {
   "cell_type": "code",
   "execution_count": 1,
   "id": "33efc8eb-8d93-4e02-94e1-3acf46b492e4",
   "metadata": {},
   "outputs": [],
   "source": [
    "import csv\n",
    "\n",
    "def clean_csv(input_file, output_file):\n",
    "    with open(input_file, 'r') as csvfile_in, open(output_file, 'w', newline='') as csvfile_out:\n",
    "        csv_reader = csv.reader(csvfile_in)\n",
    "        csv_writer = csv.writer(csvfile_out)\n",
    "\n",
    "        # Write header to the output file\n",
    "        header = next(csv_reader)\n",
    "        csv_writer.writerow(header)\n",
    "\n",
    "        # Process and clean the CSV rows\n",
    "        for row in csv_reader:\n",
    "            topic_id = row[0]\n",
    "            content_ids = row[1:]\n",
    "\n",
    "            for content_id in content_ids:\n",
    "                cleaned_content_id = content_id.strip('\"[]')\n",
    "                cleaned_row = [topic_id, cleaned_content_id]\n",
    "                csv_writer.writerow(cleaned_row)\n",
    "\n",
    "# Set the input and output file names\n",
    "output_csv = 'cleaned_submission.csv'\n",
    "\n",
    "# Clean the input CSV and write the cleaned data to the output CSV\n",
    "clean_csv(input_csv, output_csv)\n"
   ]
  },
  {
   "cell_type": "code",
   "execution_count": 7,
   "id": "8c90b582-a60a-424f-8df5-531b65dc291d",
   "metadata": {},
   "outputs": [],
   "source": [
    "import csv\n",
    "\n",
    "def clean_csv(input_file, output_file):\n",
    "    with open(input_file, 'r') as csvfile_in, open(output_file, 'w', newline='') as csvfile_out:\n",
    "        csv_reader = csv.reader(csvfile_in)\n",
    "        csv_writer = csv.writer(csvfile_out)\n",
    "\n",
    "        # Write header to the output file\n",
    "        header = next(csv_reader)\n",
    "        csv_writer.writerow(header)\n",
    "\n",
    "        # Process and clean the CSV rows\n",
    "        for row in csv_reader:\n",
    "            topic_id = row[0]\n",
    "            content_ids = row[1:]\n",
    "\n",
    "            for content_id in content_ids:\n",
    "\n",
    "                # Split into new rows when a new topic_id is found\n",
    "                if content_id.startswith('t_'):\n",
    "                    topic_id = content_id\n",
    "                else:\n",
    "                    cleaned_row = [topic_id, content_id]\n",
    "                    csv_writer.writerow(cleaned_row)\n",
    "\n",
    "# Set the input and output file names\n",
    "output_csv = 'cleaned_output.csv'\n",
    "\n",
    "# Clean the input CSV and write the cleaned data to the output CSV\n",
    "clean_csv(input_csv, output_csv)\n"
   ]
  },
  {
   "cell_type": "code",
   "execution_count": 8,
   "id": "1a4131ad-5323-45ba-a519-758656c88114",
   "metadata": {},
   "outputs": [],
   "source": [
    "import csv\n",
    "\n",
    "def process_csv(input_filename, output_filename):\n",
    "    with open(input_filename, 'r') as csvfile, open(output_filename, 'w', newline='') as outfile:\n",
    "        csvreader = csv.reader(csvfile)\n",
    "        csvwriter = csv.writer(outfile)\n",
    "        csvwriter.writerow(next(csvreader)) # Write the header row\n",
    "        for row in csvreader:\n",
    "            # Remove the square brackets and single quotes\n",
    "            row = [col.strip(\"[]\").replace(\"'\", \"\") for col in row]\n",
    "            csvwriter.writerow(row)\n",
    "            \n",
    "process_csv('content_final.csv', 'content_final_split.csv')"
   ]
  },
  {
   "cell_type": "code",
   "execution_count": 32,
   "id": "ab21955b-3b4f-4e89-9c5e-a4dc7c5f47c9",
   "metadata": {},
   "outputs": [
    {
     "data": {
      "text/plain": [
       "['\"[\\'c_1108dd0c7a5d\\', \\'c_376c5a8eb028\\', \\'c_5bc0e1e2cba0\\', \\'c_76231f9d0b5e\\'',\n",
       " '\",\"[\\'c_639ea2ef9c95\\', \\'c_89ce9367be10\\', \\'c_ac1672cdcd2c\\', \\'c_ebb7fdf10a7e\\']\"']"
      ]
     },
     "execution_count": 32,
     "metadata": {},
     "output_type": "execute_result"
    }
   ],
   "source": [
    "data = '''\"['c_1108dd0c7a5d', 'c_376c5a8eb028', 'c_5bc0e1e2cba0', 'c_76231f9d0b5e']\",\"['c_639ea2ef9c95', 'c_89ce9367be10', 'c_ac1672cdcd2c', 'c_ebb7fdf10a7e']\"'''\n",
    "split_data = data.split(\"]\",1)\n",
    "split_data_cleaned = []\n",
    "for list in split_data:\n",
    "    split_data_cleaned.append(list.strip(\"[\"))\n",
    "split_data_cleaned"
   ]
  },
  {
   "cell_type": "code",
   "execution_count": 34,
   "id": "5bbf575a-6341-41ca-b625-f8a9a591967c",
   "metadata": {},
   "outputs": [
    {
     "name": "stdout",
     "output_type": "stream",
     "text": [
      "First string:\n",
      " ['c_1108dd0c7a5d', 'c_376c5a8eb028', 'c_5bc0e1e2cba0', 'c_76231f9d0b5e']\n",
      "\n",
      "Second string:\n",
      " ['c_639ea2ef9c95', 'c_89ce9367be10', 'c_ac1672cdcd2c', 'c_ebb7fdf10a7e']\n"
     ]
    }
   ],
   "source": [
    "input_tuple = (\"['c_1108dd0c7a5d', 'c_376c5a8eb028', 'c_5bc0e1e2cba0', 'c_76231f9d0b5e']\", \"['c_639ea2ef9c95', 'c_89ce9367be10', 'c_ac1672cdcd2c', 'c_ebb7fdf10a7e']\")\n",
    "\n",
    "str1, str2 = input_tuple\n",
    "\n",
    "print(\"First string:\\n\", str1)\n",
    "print(\"\\nSecond string:\\n\", str2)\n"
   ]
  },
  {
   "cell_type": "code",
   "execution_count": 55,
   "id": "40517d9c-234d-4371-aaec-837a7629e2b7",
   "metadata": {},
   "outputs": [],
   "source": [
    "import csv\n",
    "\n",
    "def process_csv(input_file, output_file):\n",
    "    with open(input_file, 'r') as in_file, open(output_file, 'w', newline='') as out_file:\n",
    "        reader = csv.reader(in_file)\n",
    "        writer = csv.writer(out_file)\n",
    "        \n",
    "        # Write header to the output file\n",
    "        header = next(reader)\n",
    "        \n",
    "        for row in reader:\n",
    "            # Extract strings from the second column of each row\n",
    "            # print(row)\n",
    "            pairs = []\n",
    "            for i in range(0, len(row), 2):\n",
    "                list1 = eval(row[i])\n",
    "                list2 = eval(row[i+1])\n",
    "                pairs.append((list1, list2))\n",
    "            list1, list2 = pairs[0]\n",
    "            \n",
    "            # Combine the split lists with the original row and write to the output file\n",
    "            writer.writerow(list1)\n",
    "            writer.writerow(list2)\n",
    "\n",
    "# Example usage of the function\n",
    "input_file = 'content_final.csv'\n",
    "output_file = 'content_final_split.csv'\n",
    "process_csv(input_file, output_file)\n"
   ]
  },
  {
   "cell_type": "code",
   "execution_count": 56,
   "id": "804e1c11-6853-4d2e-9795-7e1809097f61",
   "metadata": {},
   "outputs": [
    {
     "ename": "IndexError",
     "evalue": "list index out of range",
     "output_type": "error",
     "traceback": [
      "\u001b[1;31m---------------------------------------------------------------------------\u001b[0m",
      "\u001b[1;31mIndexError\u001b[0m                                Traceback (most recent call last)",
      "Cell \u001b[1;32mIn[56], line 29\u001b[0m\n\u001b[0;32m     27\u001b[0m content_file \u001b[38;5;241m=\u001b[39m \u001b[38;5;124m'\u001b[39m\u001b[38;5;124mcontent_final_split.csv\u001b[39m\u001b[38;5;124m'\u001b[39m\n\u001b[0;32m     28\u001b[0m output_file \u001b[38;5;241m=\u001b[39m \u001b[38;5;124m'\u001b[39m\u001b[38;5;124mjoined.csv\u001b[39m\u001b[38;5;124m'\u001b[39m\n\u001b[1;32m---> 29\u001b[0m \u001b[43mjoin_csv\u001b[49m\u001b[43m(\u001b[49m\u001b[43mtopic_file\u001b[49m\u001b[43m,\u001b[49m\u001b[43m \u001b[49m\u001b[43mcontent_file\u001b[49m\u001b[43m,\u001b[49m\u001b[43m \u001b[49m\u001b[43moutput_file\u001b[49m\u001b[43m)\u001b[49m\n",
      "Cell \u001b[1;32mIn[56], line 16\u001b[0m, in \u001b[0;36mjoin_csv\u001b[1;34m(topic_file, content_file, output_file)\u001b[0m\n\u001b[0;32m     14\u001b[0m content_row \u001b[38;5;241m=\u001b[39m \u001b[38;5;28mnext\u001b[39m(content_reader)\n\u001b[0;32m     15\u001b[0m \u001b[38;5;28;01mfor\u001b[39;00m topic_row \u001b[38;5;129;01min\u001b[39;00m topic_reader:\n\u001b[1;32m---> 16\u001b[0m     \u001b[38;5;28;01mwhile\u001b[39;00m \u001b[43mcontent_row\u001b[49m\u001b[43m[\u001b[49m\u001b[38;5;241;43m1\u001b[39;49m\u001b[43m]\u001b[49m \u001b[38;5;241m==\u001b[39m \u001b[38;5;124m\"\u001b[39m\u001b[38;5;124m\"\u001b[39m:\n\u001b[0;32m     17\u001b[0m         content_row \u001b[38;5;241m=\u001b[39m \u001b[38;5;28mnext\u001b[39m(content_reader)\n\u001b[0;32m     19\u001b[0m     joined_row \u001b[38;5;241m=\u001b[39m topic_row \u001b[38;5;241m+\u001b[39m content_row[\u001b[38;5;241m1\u001b[39m:]\n",
      "\u001b[1;31mIndexError\u001b[0m: list index out of range"
     ]
    }
   ],
   "source": [
    "import csv\n",
    "\n",
    "def join_csv(topic_file, content_file, output_file):\n",
    "    with open(topic_file, 'r') as t_file, open(content_file, 'r') as c_file, open(output_file, 'w', newline='') as out_file:\n",
    "        topic_reader = csv.reader(t_file)\n",
    "        content_reader = csv.reader(c_file)\n",
    "        writer = csv.writer(out_file)\n",
    "\n",
    "        # Write header to the output file\n",
    "        topic_header = next(topic_reader)\n",
    "        content_header = next(content_reader)\n",
    "        writer.writerow(topic_header + content_header[1:])\n",
    "\n",
    "        content_row = next(content_reader)\n",
    "        for topic_row in topic_reader:\n",
    "            while content_row[1] == \"\":\n",
    "                content_row = next(content_reader)\n",
    "            \n",
    "            joined_row = topic_row + content_row[1:]\n",
    "            writer.writerow(joined_row)\n",
    "            content_row = next(content_reader, None)\n",
    "            if content_row is None:\n",
    "                break\n",
    "\n",
    "# Example usage of the function\n",
    "topic_file = 'cleaned_output.csv'\n",
    "content_file = 'content_final_split.csv'\n",
    "output_file = 'joined.csv'\n",
    "join_csv(topic_file, content_file, output_file)\n"
   ]
  }
 ],
 "metadata": {
  "kernelspec": {
   "display_name": "Python 3 (ipykernel)",
   "language": "python",
   "name": "python3"
  },
  "language_info": {
   "codemirror_mode": {
    "name": "ipython",
    "version": 3
   },
   "file_extension": ".py",
   "mimetype": "text/x-python",
   "name": "python",
   "nbconvert_exporter": "python",
   "pygments_lexer": "ipython3",
   "version": "3.10.11"
  }
 },
 "nbformat": 4,
 "nbformat_minor": 5
}
