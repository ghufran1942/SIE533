{
 "cells": [
  {
   "cell_type": "code",
   "execution_count": 1,
   "id": "2e852a48-c47a-4ae0-b2af-210d1de8b8f2",
   "metadata": {},
   "outputs": [],
   "source": [
    "import numpy as np\n",
    "import pandas as pd"
   ]
  },
  {
   "cell_type": "code",
   "execution_count": 2,
   "id": "454747b2-2c30-4a03-9dc0-e9513030c4d0",
   "metadata": {},
   "outputs": [],
   "source": [
    "# Load contents, correlations and topics file\n",
    "BASE_DIR = \"data/\"\n",
    "content = pd.read_csv(BASE_DIR+\"content.csv\")\n",
    "correlations = pd.read_csv(BASE_DIR+\"correlations.csv\")\n",
    "topic = pd.read_csv(BASE_DIR+\"topics.csv\")"
   ]
  },
  {
   "cell_type": "code",
   "execution_count": 3,
   "id": "1097bda1-a550-4f53-a2b7-fdfcee14e686",
   "metadata": {},
   "outputs": [
    {
     "name": "stdout",
     "output_type": "stream",
     "text": [
      "Original contents file shape: (154047, 8)\n",
      "Original topics file shape: (76972, 9)\n",
      "Original correlations file shape: (61517, 2)\n"
     ]
    }
   ],
   "source": [
    "# Print the original size of the data\n",
    "print(\"Original contents file shape:\", content.shape)\n",
    "print(\"Original topics file shape:\", topic.shape)\n",
    "print(\"Original correlations file shape:\", correlations.shape)"
   ]
  },
  {
   "cell_type": "code",
   "execution_count": 4,
   "id": "edfbded2-3c45-470f-b7fd-300d8e081ae1",
   "metadata": {},
   "outputs": [],
   "source": [
    "# Use only CONTENT whose language is english\n",
    "english_filtered_content = content[content[\"language\"]==\"en\"]\n",
    "# Use only TOPICS whose language is english & has content & drop rows if there are any NAN present in the dataset\n",
    "english_filtered_topics = topic[(topic[\"language\"]==\"en\") & (topic[\"has_content\"]==1)].dropna()"
   ]
  },
  {
   "cell_type": "code",
   "execution_count": null,
   "id": "55fb3859-6ec7-40c2-9b17-51e519f1ebc2",
   "metadata": {},
   "outputs": [],
   "source": [
    "# Print the filtered size of the data\n",
    "print(\"Filtered content shape:\", english_filtered_content.shape)\n",
    "print(\"Filtered topic shape:\", english_filtered_topics.shape)\n",
    "print(\"Filtered correlations shape:\", correlations.shape)"
   ]
  }
 ],
 "metadata": {
  "kernelspec": {
   "display_name": "Python 3 (ipykernel)",
   "language": "python",
   "name": "python3"
  },
  "language_info": {
   "codemirror_mode": {
    "name": "ipython",
    "version": 3
   },
   "file_extension": ".py",
   "mimetype": "text/x-python",
   "name": "python",
   "nbconvert_exporter": "python",
   "pygments_lexer": "ipython3",
   "version": "3.9.11"
  }
 },
 "nbformat": 4,
 "nbformat_minor": 5
}
